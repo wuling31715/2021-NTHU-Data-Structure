{
 "cells": [
  {
   "cell_type": "code",
   "execution_count": 1,
   "metadata": {},
   "outputs": [],
   "source": [
    "with open(\"input0304\", \"w\") as f:\n",
    "    r = 1\n",
    "    c = 100000\n",
    "    f.write(\"{} {}\\n\".format(r, c))\n",
    "    for i in range(r):\n",
    "        for j in range(c):\n",
    "            if j == c - 1:\n",
    "                f.write(\"{}\\n\".format(1))\n",
    "            else:\n",
    "                f.write(\"{} \".format(1))"
   ]
  },
  {
   "cell_type": "code",
   "execution_count": 5,
   "metadata": {},
   "outputs": [],
   "source": [
    "with open(\"input0310\", \"w\") as f:\n",
    "    r = 10\n",
    "    c = 10\n",
    "    f.write(\"{} {}\\n\".format(r, c))\n",
    "    for i in range(r):\n",
    "        if i == 0: # 第一列\n",
    "            for j in range(c):\n",
    "                if j == c - 1: # 最後一欄\n",
    "                    f.write(\"{}\\n\".format(1))\n",
    "                else:\n",
    "                    f.write(\"{} \".format(1))\n",
    "        elif i == r - 1: # 最後一列\n",
    "            for j in range(c):\n",
    "                if j == c - 1: # 最後一欄\n",
    "                    f.write(\"{}\\n\".format(1))\n",
    "                else:\n",
    "                    f.write(\"{} \".format(1))\n",
    "        else:\n",
    "            for j in range(c):\n",
    "                if j == c - 1: # 最後一欄\n",
    "                    f.write(\"{}\\n\".format(1))\n",
    "                else:\n",
    "                    f.write(\"{} \".format(0))                        "
   ]
  },
  {
   "cell_type": "code",
   "execution_count": 4,
   "metadata": {},
   "outputs": [],
   "source": [
    "with open(\"input0305\", \"w\") as f:\n",
    "    r = 1000\n",
    "    c = 1000\n",
    "    f.write(\"{} {}\\n\".format(r, c))\n",
    "    for i in range(r):\n",
    "        if i == 0: # 第一列\n",
    "            for j in range(c):\n",
    "                if j == c - 1: # 最後一欄\n",
    "                    f.write(\"{}\\n\".format(1))\n",
    "                else:\n",
    "                    f.write(\"{} \".format(1))\n",
    "        elif i == r - 1: # 最後一列\n",
    "            for j in range(c):\n",
    "                if j == c - 1: # 最後一欄\n",
    "                    f.write(\"{}\\n\".format(1))\n",
    "                else:\n",
    "                    f.write(\"{} \".format(1))\n",
    "        else:\n",
    "            for j in range(c):\n",
    "                if j == c - 1: # 最後一欄\n",
    "                    f.write(\"{}\\n\".format(1))\n",
    "                else:\n",
    "                    f.write(\"{} \".format(0))                        "
   ]
  },
  {
   "cell_type": "code",
   "execution_count": 4,
   "metadata": {},
   "outputs": [],
   "source": [
    "with open(\"input0305\", \"w\") as f:\n",
    "    r = 1000\n",
    "    c = 1000\n",
    "    f.write(\"{} {}\\n\".format(r, c))\n",
    "    for i in range(r):\n",
    "        if i == 0: # 第一列\n",
    "            for j in range(c):\n",
    "                if j == c - 1: # 最後一欄\n",
    "                    f.write(\"{}\\n\".format(1))\n",
    "                else:\n",
    "                    f.write(\"{} \".format(1))\n",
    "        elif i == r - 1: # 最後一列\n",
    "            for j in range(c):\n",
    "                if j == c - 1: # 最後一欄\n",
    "                    f.write(\"{}\\n\".format(1))\n",
    "                else:\n",
    "                    f.write(\"{} \".format(1))\n",
    "        else:\n",
    "            for j in range(c):\n",
    "                if j == c - 1: # 最後一欄\n",
    "                    f.write(\"{}\\n\".format(1))\n",
    "                else:\n",
    "                    f.write(\"{} \".format(0))                        "
   ]
  },
  {
   "cell_type": "code",
   "execution_count": 12,
   "metadata": {},
   "outputs": [],
   "source": [
    "with open(\"input0304\", \"w\") as f:\n",
    "    r = 1000\n",
    "    c = 1000\n",
    "    f.write(\"{} {}\\n\".format(r, c))\n",
    "    for i in range(r):\n",
    "        if i == 0: # 第一列\n",
    "            for j in range(c):\n",
    "                if j == c - 1: # 最後一欄\n",
    "                    f.write(\"{}\\n\".format(1))\n",
    "                else:\n",
    "                    f.write(\"{} \".format(1))\n",
    "        elif i == r - 1: # 最後一列\n",
    "            for j in range(c):\n",
    "                if j == c - 1: # 最後一欄\n",
    "                    f.write(\"{}\\n\".format(0))\n",
    "                else:\n",
    "                    f.write(\"{} \".format(1))\n",
    "        else:\n",
    "            for j in range(c):\n",
    "                if j == c - 1: # 最後一欄\n",
    "                    f.write(\"{}\\n\".format(1))\n",
    "                elif j == 0:\n",
    "                    f.write(\"{} \".format(1))                        \n",
    "                else:\n",
    "                    f.write(\"{} \".format(0))                        "
   ]
  },
  {
   "cell_type": "code",
   "execution_count": null,
   "metadata": {},
   "outputs": [],
   "source": []
  }
 ],
 "metadata": {
  "kernelspec": {
   "display_name": "Python 3",
   "language": "python",
   "name": "python3"
  },
  "language_info": {
   "codemirror_mode": {
    "name": "ipython",
    "version": 3
   },
   "file_extension": ".py",
   "mimetype": "text/x-python",
   "name": "python",
   "nbconvert_exporter": "python",
   "pygments_lexer": "ipython3",
   "version": "3.6.12"
  }
 },
 "nbformat": 4,
 "nbformat_minor": 4
}
